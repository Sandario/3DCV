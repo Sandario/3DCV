{
 "cells": [
  {
   "cell_type": "markdown",
   "metadata": {},
   "source": [
    "# Exercise 01: Mathematical Background"
   ]
  },
  {
   "cell_type": "markdown",
   "metadata": {},
   "source": [
    "## Setting up your python environment\n",
    "\n",
    "Before tackling the coding exercises, we need to setup the environment first. If you don't have Python on you computer, a quick way to install it is via `conda`. Please install [Miniconda](https://www.anaconda.com/docs/getting-started/miniconda/install) first. Then you can create a Python environment by\n",
    "```\n",
    "conda create -n cv2mvg python=3.10\n",
    "```\n",
    "Then you can activate the Python environment and install necessary pacakges by\n",
    "```\n",
    "conda activate cv2mvg\n",
    "pip install -r requirements.txt\n",
    "```"
   ]
  },
  {
   "cell_type": "markdown",
   "metadata": {},
   "source": [
    "### Checking the environment\n",
    "Run the following code cell to check if relevant packages were installed."
   ]
  },
  {
   "cell_type": "code",
   "execution_count": 1,
   "metadata": {},
   "outputs": [
    {
     "name": "stdout",
     "output_type": "stream",
     "text": [
      "NumPy version installed: 1.26.4\n"
     ]
    }
   ],
   "source": [
    "import numpy as np\n",
    "print(f\"NumPy version installed: {np.__version__}\")"
   ]
  },
  {
   "cell_type": "code",
   "execution_count": 2,
   "metadata": {},
   "outputs": [],
   "source": [
    "from exercise_code import perform_gaussian_elemination, meeting_point_linear, solve_linear_equation_SVD, get_null_vector\n",
    "\n",
    "from tests import test_compute_meetingpoint,test_gaussian_elimination\n",
    "from tests import generate_matrix, test_pseudo_inverse, generate_plt_data\n",
    "%load_ext autoreload\n",
    "%autoreload 2"
   ]
  },
  {
   "cell_type": "markdown",
   "metadata": {},
   "source": [
    "## Part I: Gaussian Eleminination\n",
    "\n",
    "In this task you are to find an inverse of a matrix using Gaussian elimination:\n",
    "\n",
    "Given a square matrix A, through application of elementary row operations bring the matrix $[A|I]$ to the form $[I|A −1 ]$.\n",
    "If the matrix is degenerate you are to bring the matrix to the form where there is at least one zero row.\n",
    "\n",
    "Go to file ```/exercise_code/gaussian_elemination.py``` and fill in the missing lines of code."
   ]
  },
  {
   "cell_type": "code",
   "execution_count": 3,
   "metadata": {},
   "outputs": [
    {
     "name": "stdout",
     "output_type": "stream",
     "text": [
      "[[1 2]\n",
      " [3 4]]\n",
      "[[-2.   1. ]\n",
      " [ 1.5 -0.5]]\n",
      "[[1 0]\n",
      " [0 1]]\n",
      "[[-2.   1. ]\n",
      " [ 1.5 -0.5]]\n",
      "('A', 1, 0, -3)\n",
      "('M', 1, -0.5)\n",
      "('A', 0, 1, -2)\n",
      "SOLUTION\n"
     ]
    }
   ],
   "source": [
    "import numpy as np\n",
    "A = np.array([[1, 2], [3, 4]])\n",
    "print(A)\n",
    "A_inv = np.linalg.inv(A)\n",
    "print(A_inv)\n",
    "ops, A_inv = perform_gaussian_elemination(A)\n",
    "print(A_inv)\n",
    "\n",
    "for op in ops:\n",
    "    print(op)"
   ]
  },
  {
   "cell_type": "code",
   "execution_count": 4,
   "metadata": {},
   "outputs": [
    {
     "name": "stderr",
     "output_type": "stream",
     "text": [
      "INFO:root:Congratulations: You passed the test case for the Gaussian elimination.\n",
      "INFO:root:Congratulations: You passed the test case for the Gaussian elimination.\n",
      "INFO:root:All tests of GaussianEliminationTest passed.\n",
      "Tests passed: 2/2\n",
      "INFO:root:Score: 100/100\n"
     ]
    },
    {
     "name": "stdout",
     "output_type": "stream",
     "text": [
      "[[1 0]\n",
      " [0 1]]\n",
      "[[1 0]\n",
      " [0 1]]\n"
     ]
    },
    {
     "data": {
      "text/plain": [
       "100"
      ]
     },
     "execution_count": 4,
     "metadata": {},
     "output_type": "execute_result"
    }
   ],
   "source": [
    "test_gaussian_elimination()"
   ]
  },
  {
   "cell_type": "markdown",
   "metadata": {},
   "source": [
    "## Part II: Meeting Point\n",
    "\n",
    "Person A and Person B live in linear subspaces of $\\mathbb{R}^m$. They want to meet to enjoy a couple of bottles of Spezi. You are to write a program to propose them a point in space where they can meet.\n",
    "\n",
    "We need to find a common point for two subspaces. These subspaces are given by sets of points that span both of them.\n",
    "Go to file ```/exercise_code/meeting_point.py``` and fill in the missing lines of code."
   ]
  },
  {
   "cell_type": "code",
   "execution_count": 14,
   "metadata": {},
   "outputs": [
    {
     "name": "stdout",
     "output_type": "stream",
     "text": [
      "[[2 1 9 1]\n",
      " [2 3 4 5]\n",
      " [0 0 0 0]]\n",
      "[[1 4 1 2]\n",
      " [0 0 0 0]\n",
      " [2 3 4 5]]\n"
     ]
    }
   ],
   "source": [
    "# Create the two subplanes in R^3\n",
    "c = np.array([1, 0, 0])\n",
    "a = np.array([0, 1, 0])\n",
    "b = np.array([0, 0, 1])\n",
    "PTS_a = [2*a+2*c, 3*a+c, 4*a+9*c, 5*a+c]\n",
    "PTS_b = [2*b+c, 3*b+4*c, 4*b+c, 5*b+2*c]\n",
    "PTS_a, PTS_b = np.array(PTS_a).T, np.array(PTS_b).T\n",
    "print(PTS_a)\n",
    "print(PTS_b)"
   ]
  },
  {
   "cell_type": "code",
   "execution_count": 15,
   "metadata": {},
   "outputs": [
    {
     "name": "stdout",
     "output_type": "stream",
     "text": [
      "[[-1.00000000e+00 -1.00000000e+00  1.00000000e+00 -1.00000000e+00\n",
      "  -1.00000000e+00]\n",
      " [ 5.23721441e-15 -9.16646231e-16 -3.41090731e-16  2.29185360e-16\n",
      "   4.57188700e-17]\n",
      " [ 0.00000000e+00  0.00000000e+00  0.00000000e+00  0.00000000e+00\n",
      "   0.00000000e+00]]\n"
     ]
    }
   ],
   "source": [
    "output = meeting_point_linear([PTS_a, PTS_b])\n",
    "print(output)"
   ]
  },
  {
   "cell_type": "markdown",
   "metadata": {},
   "source": [
    "Check, whether you passed the test"
   ]
  },
  {
   "cell_type": "code",
   "execution_count": 16,
   "metadata": {},
   "outputs": [
    {
     "name": "stderr",
     "output_type": "stream",
     "text": [
      "INFO:root:Congratulations: You passed the test case for the case of a line as intersection.\n",
      "INFO:root:Congratulations: You passed the test case for the case of only zero as intersection.\n",
      "INFO:root:All tests of MeetingPointTest passed.\n",
      "Tests passed: 2/2\n",
      "INFO:root:Score: 100/100\n"
     ]
    },
    {
     "data": {
      "text/plain": [
       "100"
      ]
     },
     "execution_count": 16,
     "metadata": {},
     "output_type": "execute_result"
    }
   ],
   "source": [
    "test_compute_meetingpoint()"
   ]
  },
  {
   "cell_type": "markdown",
   "metadata": {},
   "source": [
    "# Part III: The Moore-Penrose pseudo-inverse\n",
    "\n",
    "To solve the linear system $Dx = b$ for an arbitrary (non-quadratic) matrix $D\\in\\mathbb{R}^{m\\times n}$ of rank $r \\leq \\min(m,n)$, one can define a (generalized) inverse, also called the *Moore-Penrose pseudo-inverse* (refer to Chapter 1, last slide).\n",
    "\n",
    "In this exercise we want to solve the linear system $Dx=b$. It is obvious that the set of all possible solutions can be denoted by $S = \\{x^\\star + v | v \\in \\text{kernel}(D)\\}$.\n",
    "\n",
    "To get farmiliar with computational linear algebra with Numpy, we will go through the following steps in this exercise"
   ]
  },
  {
   "cell_type": "markdown",
   "metadata": {},
   "source": [
    "### Create some data\n",
    "1. Generate a matrix $D$ using random functions with $m$ rows.\n",
    "2. Introduce small additive Gaussian noise with standard deviation $\\epsilon$ into $D$.\n",
    "3. $b \\in \\mathbb{R}^{4}$ a vector whose components are all equal to 1\n",
    "4. $x^* = [4,-3,2,-1]^T \\in \\mathbb{R}^{4}$ should be one possible solution of the linear system, i.e. for any row $[d_1,d_2,d_3,d_4]$ of $D$:\n",
    "\\begin{equation*}\n",
    "\t\t4 d_1 -3 d_2 + 2 d_3 - d_4 = \\mathbb{1}\n",
    "\\end{equation*}\n",
    "\n",
    "Go to file ```/tests/test_pseudo_inverse.py``` and fill in the missing lines of code."
   ]
  },
  {
   "cell_type": "code",
   "execution_count": 25,
   "metadata": {},
   "outputs": [
    {
     "name": "stdout",
     "output_type": "stream",
     "text": [
      "[0.99991032 0.99919753 1.00079663 0.99912435]\n"
     ]
    }
   ],
   "source": [
    "import numpy as np\n",
    "m = 4\n",
    "x_star = np.array([4, -3, 2, -1])\n",
    "b = np.ones(m)\n",
    "D = generate_matrix(x_star, b, eps=1e-4)\n",
    "b_ = D @ x_star\n",
    "print(b_)"
   ]
  },
  {
   "cell_type": "markdown",
   "metadata": {},
   "source": [
    "### Find the coefficient $x$ by solving $Dx = b$\n",
    "\n",
    "1. Compute the SVD of the matrix D.\n",
    "2. Compute the Moore-Penrose pseudo-inverse $\\hat{D}$ \n",
    "3. Compute the coefficients $\\hat{x}$, and compare it to the true solution $x^*$.\n",
    "4. Try some large $m$. How is the precision impacted?\n",
    "\n",
    "Go to file ```/exercise_code/pseudo_inverse.py``` and fill in the missing lines of code."
   ]
  },
  {
   "cell_type": "code",
   "execution_count": 26,
   "metadata": {},
   "outputs": [
    {
     "name": "stdout",
     "output_type": "stream",
     "text": [
      "Error of x: 0.13064911508837468\n",
      "Error of D_inv: 1.5110522836989117e-13\n"
     ]
    }
   ],
   "source": [
    "D_inv = np.linalg.pinv(D)\n",
    "x_hat, D_inv_hat = solve_linear_equation_SVD(D, b)\n",
    "delta_x = np.linalg.norm(x_star - x_hat)\n",
    "print(f\"Error of x: {delta_x}\")\n",
    "print(f\"Error of D_inv: {np.linalg.norm(D_inv - D_inv_hat)}\")"
   ]
  },
  {
   "cell_type": "markdown",
   "metadata": {},
   "source": [
    "### Assume $m=3$ and there is no noise, we hence have infinitely many solutions.\n",
    "\n",
    "1.  Solve again the linear equation $Dx=b$, but note that now $\\text{rank}(D)=m$. \n",
    "    The function `solve_linear_equation_SVD` should be able to tackle it as well.\n",
    "\n",
    "    Go to file ```/exercise_code/pseudo_inverse.py``` in case your code can not handle this case.\n",
    "2.  Write a function to get a vector $v \\in \\text{kernel}(D)$ with $\\| v\\| =1$. \n",
    "    The set of all possible solutions is then $S = \\{x + \\lambda v | \\lambda \\in \\mathbb{R}\\}$.\n",
    "    \n",
    "    Go to file ```/exercise_code/get_null_vector.py``` and fill in the missing lines of code.\n"
   ]
  },
  {
   "cell_type": "code",
   "execution_count": 30,
   "metadata": {},
   "outputs": [
    {
     "name": "stdout",
     "output_type": "stream",
     "text": [
      "[1. 1. 1.]\n",
      "Error of x: [ 0.61613932 -0.72159008 -0.13727765 -0.28431485]\n",
      "Kernel: [-0.61613932  0.72159008  0.13727765  0.28431485]\n"
     ]
    }
   ],
   "source": [
    "import numpy as np\n",
    "m = 3\n",
    "x_star = np.array([4, -3, 2, -1])\n",
    "b = np.ones(m)\n",
    "D = generate_matrix(x_star, b, eps=0)\n",
    "b_ = D @ x_star\n",
    "v = get_null_vector(D)\n",
    "print(b_)\n",
    "x_hat, _ = solve_linear_equation_SVD(D, b)\n",
    "delta_x = (x_star - x_hat)\n",
    "delta_x = delta_x / np.linalg.norm(delta_x)\n",
    "print(f\"Error of x: {delta_x}\")\n",
    "print(f\"Kernel: {v}\")"
   ]
  },
  {
   "cell_type": "code",
   "execution_count": 31,
   "metadata": {},
   "outputs": [
    {
     "name": "stderr",
     "output_type": "stream",
     "text": [
      "INFO:root:Congratulations: Your matrix D is correct.\n",
      "INFO:root:Congratulations: You passed the first test case for the pseudo inverse.\n",
      "INFO:root:Congratulations: You passed the second test case for the pseudo inverse.\n",
      "INFO:root:Failure: You failed the third test case for the pseudo inverse. b = [1. 1. 1.], b_ = [8.1150449  0.55644918 2.87889704]\n",
      "INFO:root:Some tests of PseudoInverseTest failed.\n",
      "Tests passed: 3/4\n",
      "INFO:root:Score: 75/100\n"
     ]
    },
    {
     "data": {
      "text/plain": [
       "75"
      ]
     },
     "execution_count": 31,
     "metadata": {},
     "output_type": "execute_result"
    }
   ],
   "source": [
    "test_pseudo_inverse()"
   ]
  },
  {
   "cell_type": "markdown",
   "metadata": {},
   "source": [
    "According to the last slide of Chapter 1, we know that the following statement holds:\n",
    "\t\n",
    "$x_\\text{min} = D^{+}b$ is among all minimizers of $\\|Dx-b\\|^{2}$ the one with the smallest norm $\\|x\\|$.\n",
    "\n",
    "Let $\\lambda \\in \\mathbb{R}$, $x_{\\lambda} = x + \\lambda v$ one possible solution, and $e_{\\lambda} = \\|D x_{\\lambda} - b\\|^2$ the associated error.\n",
    "\n",
    "Display both graphs of $\\|x_\\lambda\\|$ and $e_{\\lambda}$ according to $\\lambda \\in \\lbrace -100,\\dots,100 \\rbrace$, and observe that the statement indeed holds.\n",
    "\n",
    "Go to file ```/tests/test_pseudo_inverse.py``` to generate the plot data.\n",
    "\n",
    "\n"
   ]
  },
  {
   "cell_type": "code",
   "execution_count": 32,
   "metadata": {},
   "outputs": [
    {
     "name": "stderr",
     "output_type": "stream",
     "text": [
      "INFO:matplotlib.font_manager:Failed to extract font properties from /usr/share/fonts/abattis-cantarell-vf-fonts/Cantarell-VF.otf: In FT2Font: Can not load face (SFNT font table missing; error code 0x8e)\n",
      "INFO:matplotlib.font_manager:Failed to extract font properties from /usr/share/fonts/google-noto-sans-cjk-vf-fonts/NotoSansCJK-VF.ttc: In FT2Font: Can not load face (SFNT font table missing; error code 0x8e)\n",
      "INFO:matplotlib.font_manager:Failed to extract font properties from /usr/share/fonts/google-noto-serif-cjk-vf-fonts/NotoSerifCJK-VF.ttc: In FT2Font: Can not load face (SFNT font table missing; error code 0x8e)\n",
      "INFO:matplotlib.font_manager:Failed to extract font properties from /usr/share/fonts/google-noto-sans-mono-cjk-vf-fonts/NotoSansMonoCJK-VF.ttc: In FT2Font: Can not load face (SFNT font table missing; error code 0x8e)\n",
      "INFO:matplotlib.font_manager:Failed to extract font properties from /usr/share/fonts/google-noto-color-emoji-fonts/NotoColorEmoji.ttf: In FT2Font: Can not load face (unknown file format; error code 0x2)\n",
      "INFO:matplotlib.font_manager:generated new fontManager\n"
     ]
    },
    {
     "data": {
      "image/png": "[encoded data removed]",
      "text/plain": [
       "<Figure size 640x480 with 1 Axes>"
      ]
     },
     "metadata": {},
     "output_type": "display_data"
    }
   ],
   "source": [
    "\n",
    "import matplotlib.pyplot as plt\n",
    "\n",
    "scalings, values_norm, values_error = generate_plt_data()\n",
    "plt.plot(scalings, values_norm, label=\"||x_i||\")\n",
    "plt.plot(scalings, values_error, label=\"||D x_i - b||\")\n",
    "plt.legend()\n",
    "plt.show()"
   ]
  },
  {
   "cell_type": "markdown",
   "metadata": {},
   "source": [
    "### Submit"
   ]
  },
  {
   "cell_type": "code",
   "execution_count": 33,
   "metadata": {},
   "outputs": [
    {
     "name": "stdout",
     "output_type": "stream",
     "text": [
      "relevant folders: ['exercise_code']\n",
      "notebooks files: ['mathematical_background.ipynb']\n",
      "Adding folder exercise_code\n",
      "Adding notebook mathematical_background.ipynb\n",
      "Zipping successful! Zip is stored under: /home/konstantin/Studium/Master/3DCV/output/exercise01.zip\n"
     ]
    }
   ],
   "source": [
    "from exercise_code.submit import submit_exercise\n",
    "\n",
    "submit_exercise('../output/exercise01')"
   ]
  },
  {
   "cell_type": "code",
   "execution_count": null,
   "metadata": {},
   "outputs": [],
   "source": []
  }
 ],
 "metadata": {
  "kernelspec": {
   "display_name": "Python 3 (ipykernel)",
   "language": "python",
   "name": "python3"
  },
  "language_info": {
   "codemirror_mode": {
    "name": "ipython",
    "version": 3
   },
   "file_extension": ".py",
   "mimetype": "text/x-python",
   "name": "python",
   "nbconvert_exporter": "python",
   "pygments_lexer": "ipython3",
   "version": "3.10.17"
  }
 },
 "nbformat": 4,
 "nbformat_minor": 4
}
